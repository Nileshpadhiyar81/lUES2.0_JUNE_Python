{
  "nbformat": 4,
  "nbformat_minor": 0,
  "metadata": {
    "colab": {
      "name": "Day2_29june_assignment .ipynb",
      "provenance": [],
      "collapsed_sections": []
    },
    "kernelspec": {
      "name": "python3",
      "display_name": "Python 3"
    },
    "language_info": {
      "name": "python"
    }
  },
  "cells": [
    {
      "cell_type": "code",
      "metadata": {
        "id": "U9Zr6AZnqcqy"
      },
      "source": [
        "# Day2 asssignment\n",
        "#Get Random Names of the People in the list using for Loop, Maximum participant variable and input() function \n",
        "#And then get your lottery run \n",
        "\n",
        "# programme to  genrate random user who wins lets upgrade tshirt\n",
        "#names.get_full_name()-- syntax to genrate random name"
      ],
      "execution_count": 27,
      "outputs": []
    },
    {
      "cell_type": "code",
      "metadata": {
        "colab": {
          "base_uri": "https://localhost:8080/"
        },
        "id": "Fyf4coNDZ2ZJ",
        "outputId": "e7487b33-e0d3-4feb-ccd1-34bd3cc48cdf"
      },
      "source": [
        "# way 1 of solving same by taking user input\n",
        "players=[] \n",
        "maxtickets=5  # define max  tickets availble\n",
        "for i in range(maxtickets): \n",
        "  playername = input(\"enter name of player \" + str(i)+\"=\")\n",
        "  players.append(playername)\n",
        "\n",
        "import random\n",
        "X = random.randint(0,maxtickets)\n",
        "print(\"you are lucky Winner and Won Letsupgrade Tshirt\",players[X])\n"
      ],
      "execution_count": 26,
      "outputs": [
        {
          "output_type": "stream",
          "text": [
            "enter name of player 0=nil\n",
            "enter name of player 1=abc\n",
            "enter name of player 2=def\n",
            "enter name of player 3=kkk\n",
            "enter name of player 4=llll\n",
            "you are lucky Winner and Won Letsupgrade Tshirt llll\n"
          ],
          "name": "stdout"
        }
      ]
    },
    {
      "cell_type": "code",
      "metadata": {
        "id": "Sayv9pO1fAPh"
      },
      "source": [
        "#way 2 using librery of  random name generator"
      ],
      "execution_count": 32,
      "outputs": []
    },
    {
      "cell_type": "code",
      "metadata": {
        "colab": {
          "base_uri": "https://localhost:8080/"
        },
        "id": "-gmYP9AlnUb6",
        "outputId": "8b2c01af-b75e-44df-91a4-b982ee44a439"
      },
      "source": [
        "pip install names "
      ],
      "execution_count": 31,
      "outputs": [
        {
          "output_type": "stream",
          "text": [
            "Requirement already satisfied: names in /usr/local/lib/python3.7/dist-packages (0.3.0)\n"
          ],
          "name": "stdout"
        }
      ]
    },
    {
      "cell_type": "code",
      "metadata": {
        "colab": {
          "base_uri": "https://localhost:8080/"
        },
        "id": "qGP2K0Spgu1x",
        "outputId": "ab9d0a14-3398-4222-d94e-8c13067d4c0d"
      },
      "source": [
        "players=[]  # create empty list\n",
        "maxtickets=10  # define max  tickets availble\n",
        "for i in range(maxtickets): \n",
        "  players.append(names.get_full_name()) # add elements in list till range of max tickets is reached\n",
        "\n",
        "import random\n",
        "X = random.randint(0,maxtickets)\n",
        "print(\"you are lucky Winner and Won Letsupgrade Tshirt\",players[X])"
      ],
      "execution_count": 33,
      "outputs": [
        {
          "output_type": "stream",
          "text": [
            "you are lucky Winner and Won Letsupgrade Tshirt Diane Spalding\n"
          ],
          "name": "stdout"
        }
      ]
    },
    {
      "cell_type": "code",
      "metadata": {
        "id": "ecNmsIY9grFx"
      },
      "source": [
        ""
      ],
      "execution_count": null,
      "outputs": []
    }
  ]
}