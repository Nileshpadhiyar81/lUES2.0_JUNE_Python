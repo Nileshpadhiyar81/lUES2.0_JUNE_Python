{
  "nbformat": 4,
  "nbformat_minor": 0,
  "metadata": {
    "colab": {
      "name": "Day2_29june_assignment .ipynb",
      "provenance": [],
      "collapsed_sections": []
    },
    "kernelspec": {
      "name": "python3",
      "display_name": "Python 3"
    },
    "language_info": {
      "name": "python"
    }
  },
  "cells": [
    {
      "cell_type": "code",
      "metadata": {
        "id": "U9Zr6AZnqcqy"
      },
      "source": [
        "# Day2 asssignment\n",
        "# programme to  genrate random user who wins lets upgrade tshirt\n",
        "pip install names \n",
        "import names # import librery\n",
        "#names.get_full_name()-- syntax to genrate random name"
      ],
      "execution_count": 10,
      "outputs": []
    },
    {
      "cell_type": "code",
      "metadata": {
        "colab": {
          "base_uri": "https://localhost:8080/"
        },
        "id": "stg8HKWUqoy6",
        "outputId": "37ee0c92-61da-497f-f1c1-101b0d42883f"
      },
      "source": [
        "players=[]  # create empty list\n",
        "maxtickets=10  # define max  tickets availble\n",
        "for i in range(maxtickets): \n",
        "  players.append(names.get_full_name()) # add elements in list till range of max tickets is reach\n",
        "\n",
        "import random\n",
        "X = random.randint(0,maxtickets)\n",
        "print(\"you are lucky Winner and Won Letsupgrade Tshirt\",players[X])"
      ],
      "execution_count": 20,
      "outputs": [
        {
          "output_type": "stream",
          "text": [
            "your are lucky Winner and Won letsupgrade tshirt William Johnson\n"
          ],
          "name": "stdout"
        }
      ]
    },
    {
      "cell_type": "code",
      "metadata": {
        "id": "_xU6dutAph9V"
      },
      "source": [
        ""
      ],
      "execution_count": null,
      "outputs": []
    }
  ]
}