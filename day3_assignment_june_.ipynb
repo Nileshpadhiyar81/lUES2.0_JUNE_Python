{
  "nbformat": 4,
  "nbformat_minor": 0,
  "metadata": {
    "colab": {
      "name": "day3 assignment_june .ipynb",
      "provenance": [],
      "collapsed_sections": []
    },
    "kernelspec": {
      "name": "python3",
      "display_name": "Python 3"
    },
    "language_info": {
      "name": "python"
    }
  },
  "cells": [
    {
      "cell_type": "code",
      "metadata": {
        "colab": {
          "base_uri": "https://localhost:8080/"
        },
        "id": "XXfsQVwFuPwT",
        "outputId": "e1fc2621-a23e-4272-c7d0-9ce5bba2a295"
      },
      "source": [
        "mylist=[1,2,3,4,\"nilesh\",\"padhiyar\",2.33]\n",
        "#listexample  1\n",
        "mylist.append(\"last\")  #adding string \"last\" to end of list\n",
        "mylist "
      ],
      "execution_count": null,
      "outputs": [
        {
          "output_type": "execute_result",
          "data": {
            "text/plain": [
              "[1, 2, 3, 4, 'nilesh', 'padhiyar', 2.33, 'last']"
            ]
          },
          "metadata": {
            "tags": []
          },
          "execution_count": 1
        }
      ]
    },
    {
      "cell_type": "code",
      "metadata": {
        "colab": {
          "base_uri": "https://localhost:8080/"
        },
        "id": "By6EcXwLuYy2",
        "outputId": "cecc7c05-0caa-4ef6-b6a3-0771cd258670"
      },
      "source": [
        "#listexample  2\n",
        "mylist.insert(0,\"hii\") # this will add \"hii\" at zero positon of list\n",
        "mylist"
      ],
      "execution_count": null,
      "outputs": [
        {
          "output_type": "execute_result",
          "data": {
            "text/plain": [
              "['hii', 1, 2, 3, 4, 'nilesh', 'padhiyar', 2.33, 'last']"
            ]
          },
          "metadata": {
            "tags": []
          },
          "execution_count": 2
        }
      ]
    },
    {
      "cell_type": "code",
      "metadata": {
        "colab": {
          "base_uri": "https://localhost:8080/"
        },
        "id": "b4ijJAkAui-a",
        "outputId": "26fa9a48-4687-4501-a167-70e9d5b2cf27"
      },
      "source": [
        "#listexample  3\n",
        "mylist.remove(\"last\") #this will remove \"last\" element from list\n",
        "mylist"
      ],
      "execution_count": null,
      "outputs": [
        {
          "output_type": "execute_result",
          "data": {
            "text/plain": [
              "['hii', 1, 2, 3, 4, 'nilesh', 'padhiyar', 2.33]"
            ]
          },
          "metadata": {
            "tags": []
          },
          "execution_count": 3
        }
      ]
    },
    {
      "cell_type": "code",
      "metadata": {
        "colab": {
          "base_uri": "https://localhost:8080/"
        },
        "id": "i-NwYXRaupsg",
        "outputId": "6425d60b-0f84-41fe-eca6-159a10f7da7a"
      },
      "source": [
        "#listexample  4\n",
        "a=mylist.index(\"nilesh\") \n",
        "print (\"index of nilesh is\",a) # this prints index no of string\"niles"
      ],
      "execution_count": null,
      "outputs": [
        {
          "output_type": "stream",
          "text": [
            "index of nilesh is 5\n"
          ],
          "name": "stdout"
        }
      ]
    },
    {
      "cell_type": "code",
      "metadata": {
        "colab": {
          "base_uri": "https://localhost:8080/"
        },
        "id": "gNYR55yNuuZh",
        "outputId": "a4ba3bdf-0325-4924-bc2d-13aa532957ca"
      },
      "source": [
        "#listexample  5\n",
        "mylist.clear() # clear the whole list\n",
        "mylist"
      ],
      "execution_count": null,
      "outputs": [
        {
          "output_type": "execute_result",
          "data": {
            "text/plain": [
              "[]"
            ]
          },
          "metadata": {
            "tags": []
          },
          "execution_count": 5
        }
      ]
    },
    {
      "cell_type": "code",
      "metadata": {
        "colab": {
          "base_uri": "https://localhost:8080/"
        },
        "id": "l-bfrkNGux-f",
        "outputId": "d20d95e8-a8f4-423a-ea5f-1eded5c39f14"
      },
      "source": [
        "dic={\"name\":\"Nilesh\", \"age\":25,\"num\":\"97143730xx\",\"prof\":\"Engineer\"}\n",
        "#dictionary example 1\n",
        "dic.values() # returns values of dictionary"
      ],
      "execution_count": null,
      "outputs": [
        {
          "output_type": "execute_result",
          "data": {
            "text/plain": [
              "dict_values(['Nilesh', 25, '97143730xx', 'Engineer'])"
            ]
          },
          "metadata": {
            "tags": []
          },
          "execution_count": 6
        }
      ]
    },
    {
      "cell_type": "code",
      "metadata": {
        "colab": {
          "base_uri": "https://localhost:8080/",
          "height": 36
        },
        "id": "QcuUtCgSwgTb",
        "outputId": "cd1179e4-1b15-413c-b574-43d3fb896d76"
      },
      "source": [
        "#dictionary example 2\n",
        "dic.get(\"name\") # return speecific  value by entering name "
      ],
      "execution_count": null,
      "outputs": [
        {
          "output_type": "execute_result",
          "data": {
            "application/vnd.google.colaboratory.intrinsic+json": {
              "type": "string"
            },
            "text/plain": [
              "'Nilesh'"
            ]
          },
          "metadata": {
            "tags": []
          },
          "execution_count": 7
        }
      ]
    },
    {
      "cell_type": "code",
      "metadata": {
        "colab": {
          "base_uri": "https://localhost:8080/"
        },
        "id": "ibZPSl49wjXF",
        "outputId": "a9d7b5c7-baf2-41f7-fae2-7ec2e9d64fb2"
      },
      "source": [
        "#dictionary example 3\n",
        "dic.keys() # return names assosiated with values"
      ],
      "execution_count": null,
      "outputs": [
        {
          "output_type": "execute_result",
          "data": {
            "text/plain": [
              "dict_keys(['name', 'age', 'num', 'prof'])"
            ]
          },
          "metadata": {
            "tags": []
          },
          "execution_count": 8
        }
      ]
    },
    {
      "cell_type": "code",
      "metadata": {
        "colab": {
          "base_uri": "https://localhost:8080/",
          "height": 36
        },
        "id": "_sMq8bD8wm8o",
        "outputId": "2d9f48e7-8fe3-499c-abdb-fafef800498e"
      },
      "source": [
        "#dictionary example 4\n",
        "dic.pop(\"num\") # it will remove specific element and return its value"
      ],
      "execution_count": null,
      "outputs": [
        {
          "output_type": "execute_result",
          "data": {
            "application/vnd.google.colaboratory.intrinsic+json": {
              "type": "string"
            },
            "text/plain": [
              "'97143730xx'"
            ]
          },
          "metadata": {
            "tags": []
          },
          "execution_count": 9
        }
      ]
    },
    {
      "cell_type": "code",
      "metadata": {
        "id": "BoAwBzb_wqEs"
      },
      "source": [
        "#dictionary example 5\n",
        "dic.clear() #clear whole dictionary"
      ],
      "execution_count": null,
      "outputs": []
    },
    {
      "cell_type": "code",
      "metadata": {
        "colab": {
          "base_uri": "https://localhost:8080/"
        },
        "id": "_UshEu7o60jF",
        "outputId": "84b8fe72-eb64-4f89-b8f7-2595ee7f46d2"
      },
      "source": [
        "#tuple example 1\n",
        "mytup=(\"nil\",\"fin\",\"klaus\",\"elijah\",\"nil\")\n",
        "mytup.count(\"nil\") # count the elements \n"
      ],
      "execution_count": null,
      "outputs": [
        {
          "output_type": "execute_result",
          "data": {
            "text/plain": [
              "2"
            ]
          },
          "metadata": {
            "tags": []
          },
          "execution_count": 13
        }
      ]
    },
    {
      "cell_type": "code",
      "metadata": {
        "colab": {
          "base_uri": "https://localhost:8080/"
        },
        "id": "mYHUA_ro8r7S",
        "outputId": "4cd0dfc1-de19-45ce-f706-d5c96b1af173"
      },
      "source": [
        "#tuple example 2\n",
        "mytup.index(\"nil\") # index of  the elements \n"
      ],
      "execution_count": null,
      "outputs": [
        {
          "output_type": "execute_result",
          "data": {
            "text/plain": [
              "0"
            ]
          },
          "metadata": {
            "tags": []
          },
          "execution_count": 14
        }
      ]
    },
    {
      "cell_type": "code",
      "metadata": {
        "id": "iF4mE84w9cAI",
        "colab": {
          "base_uri": "https://localhost:8080/"
        },
        "outputId": "0eba80c8-f816-42f2-8aca-5ed8e978ad5c"
      },
      "source": [
        "# set example 1\n",
        "s = set()\n",
        "s.add(2)\n",
        "s.add(3)\n",
        "s"
      ],
      "execution_count": 3,
      "outputs": [
        {
          "output_type": "execute_result",
          "data": {
            "text/plain": [
              "{2, 3}"
            ]
          },
          "metadata": {
            "tags": []
          },
          "execution_count": 3
        }
      ]
    },
    {
      "cell_type": "code",
      "metadata": {
        "colab": {
          "base_uri": "https://localhost:8080/"
        },
        "id": "Z8Lwy75FmImw",
        "outputId": "156b4d1b-44d1-4773-904c-941688ff1cea"
      },
      "source": [
        "#set example 2\n",
        "s2 = {2,3,4, 5, 6, 7, 8, 8}\n",
        "s3= s2.difference(s) \n",
        "s3"
      ],
      "execution_count": 5,
      "outputs": [
        {
          "output_type": "execute_result",
          "data": {
            "text/plain": [
              "{4, 5, 6, 7, 8}"
            ]
          },
          "metadata": {
            "tags": []
          },
          "execution_count": 5
        }
      ]
    },
    {
      "cell_type": "code",
      "metadata": {
        "colab": {
          "base_uri": "https://localhost:8080/"
        },
        "id": "aycv8bfIoOzX",
        "outputId": "b56fec27-cc1b-47e6-fc68-14ca7e5a8b15"
      },
      "source": [
        "#set example 3\n",
        "s2 = {2,3,4, 5, 6, 7, 8, 8}\n",
        "s3= s2.intersection(s)#returns a new set with the comman elements\n",
        "s3"
      ],
      "execution_count": 6,
      "outputs": [
        {
          "output_type": "execute_result",
          "data": {
            "text/plain": [
              "{2, 3}"
            ]
          },
          "metadata": {
            "tags": []
          },
          "execution_count": 6
        }
      ]
    },
    {
      "cell_type": "code",
      "metadata": {
        "colab": {
          "base_uri": "https://localhost:8080/"
        },
        "id": "gQAFsCnxpB9i",
        "outputId": "1e09b37d-c9cc-4f33-85d8-ecc6d262f20c"
      },
      "source": [
        "#set example 4\n",
        "s1={1,3,5,7}\n",
        "s2 = {2,3,4, 5, 6, 7, 8, 8}\n",
        "s3= s2.union(s1)#merge everything with unique values\n",
        "s3"
      ],
      "execution_count": 7,
      "outputs": [
        {
          "output_type": "execute_result",
          "data": {
            "text/plain": [
              "{1, 2, 3, 4, 5, 6, 7, 8}"
            ]
          },
          "metadata": {
            "tags": []
          },
          "execution_count": 7
        }
      ]
    },
    {
      "cell_type": "code",
      "metadata": {
        "colab": {
          "base_uri": "https://localhost:8080/"
        },
        "id": "1q1UKIrSNpWk",
        "outputId": "94ec2fda-2762-4af4-8468-6dd82671fc07"
      },
      "source": [
        "#set example 5\n",
        "s1={1,3,5,7}\n",
        "s1.pop\n",
        "s1"
      ],
      "execution_count": 8,
      "outputs": [
        {
          "output_type": "execute_result",
          "data": {
            "text/plain": [
              "{1, 3, 5, 7}"
            ]
          },
          "metadata": {
            "tags": []
          },
          "execution_count": 8
        }
      ]
    },
    {
      "cell_type": "code",
      "metadata": {
        "colab": {
          "base_uri": "https://localhost:8080/"
        },
        "id": "iKhF4K9CU6tw",
        "outputId": "3cd4d871-da1c-4081-d58e-128b46f688f1"
      },
      "source": [
        "#strings example 1\n",
        "mystr = 'python Is AWesome'\n",
        "x = mystr.capitalize()\n",
        "print(x)\n",
        "#example 2\n",
        "print(mystr.count('o'))\n",
        "#example 3,4,5\n",
        "mystr2='HEllO WOrLD'\n",
        "mystr2_lower=mystr2.lower()\n",
        "mystr2_upper=mystr2.upper()\n",
        "mystr2_title=mystr2.title()\n",
        "print(mystr2_lower)\n",
        "print(mystr2_upper)\n",
        "print(mystr2_title)"
      ],
      "execution_count": 25,
      "outputs": [
        {
          "output_type": "stream",
          "text": [
            "Python is awesome\n",
            "2\n",
            "hello world\n",
            "HELLO WORLD\n",
            "Hello World\n"
          ],
          "name": "stdout"
        }
      ]
    },
    {
      "cell_type": "code",
      "metadata": {
        "id": "G19aUP3X1GGp"
      },
      "source": [
        ""
      ],
      "execution_count": null,
      "outputs": []
    },
    {
      "cell_type": "code",
      "metadata": {
        "id": "Ktow7wz_c-ex"
      },
      "source": [
        ""
      ],
      "execution_count": null,
      "outputs": []
    },
    {
      "cell_type": "code",
      "metadata": {
        "id": "Ef_eBJ-dc5fG"
      },
      "source": [
        ""
      ],
      "execution_count": null,
      "outputs": []
    },
    {
      "cell_type": "code",
      "metadata": {
        "id": "P39rrjMAc3Hp"
      },
      "source": [
        ""
      ],
      "execution_count": null,
      "outputs": []
    },
    {
      "cell_type": "code",
      "metadata": {
        "id": "ySArNaWSctUV"
      },
      "source": [
        ""
      ],
      "execution_count": null,
      "outputs": []
    },
    {
      "cell_type": "code",
      "metadata": {
        "id": "lhXUkDopcnnQ"
      },
      "source": [
        ""
      ],
      "execution_count": null,
      "outputs": []
    },
    {
      "cell_type": "code",
      "metadata": {
        "id": "4VjPmdd2cg94"
      },
      "source": [
        ""
      ],
      "execution_count": null,
      "outputs": []
    },
    {
      "cell_type": "code",
      "metadata": {
        "id": "AvwrarRwcQM7"
      },
      "source": [
        ""
      ],
      "execution_count": null,
      "outputs": []
    },
    {
      "cell_type": "code",
      "metadata": {
        "id": "Vsl6bldbcNkT"
      },
      "source": [
        ""
      ],
      "execution_count": null,
      "outputs": []
    },
    {
      "cell_type": "code",
      "metadata": {
        "id": "eBz6M-2_cE2c"
      },
      "source": [
        ""
      ],
      "execution_count": null,
      "outputs": []
    },
    {
      "cell_type": "code",
      "metadata": {
        "id": "jLSZEm-Vb9be"
      },
      "source": [
        ""
      ],
      "execution_count": null,
      "outputs": []
    },
    {
      "cell_type": "code",
      "metadata": {
        "id": "lJSeLKM2bTQC"
      },
      "source": [
        ""
      ],
      "execution_count": null,
      "outputs": []
    },
    {
      "cell_type": "code",
      "metadata": {
        "id": "SzbxzSwybRgI"
      },
      "source": [
        ""
      ],
      "execution_count": null,
      "outputs": []
    },
    {
      "cell_type": "code",
      "metadata": {
        "id": "U5BKNM39bLiJ"
      },
      "source": [
        ""
      ],
      "execution_count": null,
      "outputs": []
    },
    {
      "cell_type": "code",
      "metadata": {
        "id": "GerJ-4V3bBi4"
      },
      "source": [
        ""
      ],
      "execution_count": null,
      "outputs": []
    },
    {
      "cell_type": "code",
      "metadata": {
        "id": "9Bq_AH93a5No"
      },
      "source": [
        ""
      ],
      "execution_count": null,
      "outputs": []
    },
    {
      "cell_type": "code",
      "metadata": {
        "id": "jiLNa7LGoISQ"
      },
      "source": [
        ""
      ],
      "execution_count": null,
      "outputs": []
    }
  ]
}