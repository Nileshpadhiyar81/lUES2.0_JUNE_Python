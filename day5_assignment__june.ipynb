{
  "nbformat": 4,
  "nbformat_minor": 0,
  "metadata": {
    "colab": {
      "name": "day5_assignment _june.ipynb",
      "provenance": [],
      "collapsed_sections": []
    },
    "kernelspec": {
      "name": "python3",
      "display_name": "Python 3"
    },
    "language_info": {
      "name": "python"
    }
  },
  "cells": [
    {
      "cell_type": "code",
      "metadata": {
        "colab": {
          "base_uri": "https://localhost:8080/"
        },
        "id": "2yZQN6AGiBej",
        "outputId": "83a872dc-d3e2-4db7-9941-a951f0c526b3"
      },
      "source": [
        "x= int(input(\"enter num \")) # take input from user and store it in x variable\n",
        "if x> 1:  # prime are always greter then 1\n",
        "   for i in range(2,x):  \n",
        "       if x % i == 0:  \n",
        "           print(x,\"is not a prime number\")   \n",
        "           break  \n",
        "   else:  \n",
        "       print(x,\"is a prime number\")  \n",
        "         \n",
        "else:  \n",
        "   print(x,\"is not a prime number\")  \n"
      ],
      "execution_count": 5,
      "outputs": [
        {
          "output_type": "stream",
          "text": [
            "enter num 5\n",
            "5 is a prime number\n"
          ],
          "name": "stdout"
        }
      ]
    },
    {
      "cell_type": "code",
      "metadata": {
        "id": "b1ZFRTn_iy0z"
      },
      "source": [
        "pip install pytube\n",
        "from pytube import YouTube\n",
        "YouTube('https://www.youtube.com/watch?v=JbBsqmKclXE').streams\n",
        "ys = YouTube.streams.get_highest_resolution()\n",
        "ys.download()\n",
        "\n",
        "#I have tried this  this but dont work now and i have checked online for error found that this error is solved by someone\n",
        "# bt even trying that error still there "
      ],
      "execution_count": null,
      "outputs": []
    },
    {
      "cell_type": "code",
      "metadata": {
        "id": "rLawLyFNiaiL"
      },
      "source": [
        ""
      ],
      "execution_count": null,
      "outputs": []
    },
    {
      "cell_type": "code",
      "metadata": {
        "id": "MdFMMvNGiXZS"
      },
      "source": [
        ""
      ],
      "execution_count": null,
      "outputs": []
    },
    {
      "cell_type": "code",
      "metadata": {
        "id": "erz75-S0iUzH"
      },
      "source": [
        ""
      ],
      "execution_count": null,
      "outputs": []
    },
    {
      "cell_type": "code",
      "metadata": {
        "id": "ZkZDnpXJiKa5"
      },
      "source": [
        ""
      ],
      "execution_count": null,
      "outputs": []
    }
  ]
}